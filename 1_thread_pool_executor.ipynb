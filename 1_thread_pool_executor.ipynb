{
 "cells": [
  {
   "cell_type": "code",
   "execution_count": 1,
   "id": "59b704b1",
   "metadata": {},
   "outputs": [],
   "source": [
    "import requests\n",
    "from concurrent.futures import ThreadPoolExecutor\n",
    "import time"
   ]
  },
  {
   "cell_type": "code",
   "execution_count": 2,
   "id": "0ea4e573-e6ae-4e54-87d3-aec6bd8300c6",
   "metadata": {},
   "outputs": [],
   "source": [
    "# Example: 25 test URLs\n",
    "urls = [f\"https://www.google.com/search?q={str(i)}\" for i in range(1, 25)]\n",
    "\n",
    "def fetch(url):\n",
    "    response = requests.get(url)\n",
    "    return response.status_code"
   ]
  },
  {
   "cell_type": "code",
   "execution_count": 3,
   "id": "95c0fd6a",
   "metadata": {},
   "outputs": [
    {
     "name": "stdout",
     "output_type": "stream",
     "text": [
      "Time taken: 6.07 seconds\n"
     ]
    }
   ],
   "source": [
    "start = time.time()\n",
    "for url in urls:\n",
    "    try:\n",
    "        result = fetch(url)\n",
    "    except Exception as e:\n",
    "        print(f\"Failed to fetch {url}: {e}\")\n",
    "end = time.time() - start\n",
    "print(f\"Time taken: {end:.2f} seconds\")"
   ]
  },
  {
   "cell_type": "code",
   "execution_count": 4,
   "id": "b3418c42",
   "metadata": {},
   "outputs": [
    {
     "name": "stdout",
     "output_type": "stream",
     "text": [
      "Time taken with ThreadPoolExecutor: 1.16 seconds\n"
     ]
    }
   ],
   "source": [
    "urls = [f\"https://www.google.com/search?q={str(i)}\" for i in range(100, 125)]\n",
    "start = time.time()\n",
    "with ThreadPoolExecutor(max_workers=5) as executor:\n",
    "    results = executor.map(fetch, urls)\n",
    "    for result in results:\n",
    "        try:\n",
    "            result\n",
    "        except Exception as e:\n",
    "            print(f\"Failed to fetch: {e}\")\n",
    "\n",
    "end = time.time() - start\n",
    "print(f\"Time taken with ThreadPoolExecutor: {end:.2f} seconds\")"
   ]
  },
  {
   "cell_type": "code",
   "execution_count": null,
   "id": "39cdfb34-a789-458d-898e-d22a73eb346c",
   "metadata": {},
   "outputs": [],
   "source": []
  },
  {
   "cell_type": "code",
   "execution_count": null,
   "id": "ebbac8a1-d1f1-40d2-be53-8cb9ce30fb70",
   "metadata": {},
   "outputs": [],
   "source": []
  }
 ],
 "metadata": {
  "kernelspec": {
   "display_name": "Python 3 (ipykernel)",
   "language": "python",
   "name": "python3"
  },
  "language_info": {
   "codemirror_mode": {
    "name": "ipython",
    "version": 3
   },
   "file_extension": ".py",
   "mimetype": "text/x-python",
   "name": "python",
   "nbconvert_exporter": "python",
   "pygments_lexer": "ipython3",
   "version": "3.12.10"
  }
 },
 "nbformat": 4,
 "nbformat_minor": 5
}
