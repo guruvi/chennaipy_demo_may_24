{
 "cells": [
  {
   "cell_type": "code",
   "execution_count": 2,
   "id": "0f33131b-0661-4f47-96cc-4405e1a9d4a4",
   "metadata": {},
   "outputs": [],
   "source": [
    "from concurrent.futures import ThreadPoolExecutor\n",
    "import time"
   ]
  },
  {
   "cell_type": "code",
   "execution_count": 3,
   "id": "44a61d9e",
   "metadata": {},
   "outputs": [],
   "source": [
    "def some_method(n):\n",
    "    x = 0\n",
    "    for i in range(10**7):\n",
    "        x += i * i\n",
    "    return x"
   ]
  },
  {
   "cell_type": "code",
   "execution_count": 4,
   "id": "f0b55d26",
   "metadata": {},
   "outputs": [
    {
     "name": "stdout",
     "output_type": "stream",
     "text": [
      "Single-threaded execution time: 0.50 seconds\n"
     ]
    }
   ],
   "source": [
    "start = time.time()\n",
    "some_method(1)\n",
    "end = time.time() - start\n",
    "print(f\"Single-threaded execution time: {end:.2f} seconds\")"
   ]
  },
  {
   "cell_type": "code",
   "execution_count": 5,
   "id": "f494fa97",
   "metadata": {},
   "outputs": [
    {
     "name": "stdout",
     "output_type": "stream",
     "text": [
      "Time taken: 1.8658370971679688\n"
     ]
    }
   ],
   "source": [
    "start = time.time()\n",
    "with ThreadPoolExecutor(max_workers=4) as executor:\n",
    "\tresults = executor.map(some_method, range(4))\n",
    "print(\"Time taken:\", time.time() - start)"
   ]
  },
  {
   "cell_type": "markdown",
   "id": "932b2ba3-b0a3-458a-b99a-800e29772d5b",
   "metadata": {},
   "source": [
    "start = time.time()\n",
    "with ThreadPoolExecutor(max_workers=10) as executor:\n",
    "\tresults = executor.map(some_method, range(10))\n",
    "\n",
    "print(\"Time taken:\", time.time() - start)\n"
   ]
  },
  {
   "cell_type": "code",
   "execution_count": null,
   "id": "67b13e78-550e-4b27-aa52-f9cfc0fff75c",
   "metadata": {},
   "outputs": [],
   "source": []
  }
 ],
 "metadata": {
  "kernelspec": {
   "display_name": "Python 3 (ipykernel)",
   "language": "python",
   "name": "python3"
  },
  "language_info": {
   "codemirror_mode": {
    "name": "ipython",
    "version": 3
   },
   "file_extension": ".py",
   "mimetype": "text/x-python",
   "name": "python",
   "nbconvert_exporter": "python",
   "pygments_lexer": "ipython3",
   "version": "3.12.10"
  }
 },
 "nbformat": 4,
 "nbformat_minor": 5
}
